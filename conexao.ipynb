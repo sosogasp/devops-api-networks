{
 "cells": [
  {
   "cell_type": "markdown",
   "metadata": {},
   "source": [
    "# Dashboard de Vendas"
   ]
  },
  {
   "cell_type": "code",
   "execution_count": 2,
   "metadata": {},
   "outputs": [],
   "source": [
    "import pandas as pd\n",
    "import matplotlib.pyplot as plt\n",
    "from sqlalchemy import create_engine"
   ]
  },
  {
   "cell_type": "code",
   "execution_count": 3,
   "metadata": {},
   "outputs": [],
   "source": [
    "# Conexão com PostgreSQL (use o nome do container como host)\n",
    "usuario = 'usuario'\n",
    "senha = '1234'\n",
    "host = 'localhost'\n",
    "porta = '5432'\n",
    "banco = 'dashboard'\n",
    "\n",
    "engine = create_engine(f'postgresql+psycopg2://{usuario}:{senha}@{host}:{porta}/{banco}')"
   ]
  },
  {
   "cell_type": "code",
   "execution_count": 4,
   "metadata": {},
   "outputs": [
    {
     "data": {
      "text/html": [
       "<div>\n",
       "<style scoped>\n",
       "    .dataframe tbody tr th:only-of-type {\n",
       "        vertical-align: middle;\n",
       "    }\n",
       "\n",
       "    .dataframe tbody tr th {\n",
       "        vertical-align: top;\n",
       "    }\n",
       "\n",
       "    .dataframe thead th {\n",
       "        text-align: right;\n",
       "    }\n",
       "</style>\n",
       "<table border=\"1\" class=\"dataframe\">\n",
       "  <thead>\n",
       "    <tr style=\"text-align: right;\">\n",
       "      <th></th>\n",
       "      <th>ID do pedido</th>\n",
       "      <th>Data</th>\n",
       "      <th>Cod. Produto</th>\n",
       "      <th>ID Loja</th>\n",
       "      <th>Quantidade</th>\n",
       "      <th>Valor Unitario</th>\n",
       "      <th>Valor Total</th>\n",
       "    </tr>\n",
       "  </thead>\n",
       "  <tbody>\n",
       "    <tr>\n",
       "      <th>0</th>\n",
       "      <td>14242</td>\n",
       "      <td>44197</td>\n",
       "      <td>TR0002</td>\n",
       "      <td>L90011</td>\n",
       "      <td>5</td>\n",
       "      <td>5,37</td>\n",
       "      <td>26,85</td>\n",
       "    </tr>\n",
       "    <tr>\n",
       "      <th>1</th>\n",
       "      <td>32104</td>\n",
       "      <td>44197</td>\n",
       "      <td>BA0001</td>\n",
       "      <td>L90011</td>\n",
       "      <td>1</td>\n",
       "      <td>50,42</td>\n",
       "      <td>50,42</td>\n",
       "    </tr>\n",
       "    <tr>\n",
       "      <th>2</th>\n",
       "      <td>36203</td>\n",
       "      <td>44197</td>\n",
       "      <td>GO0003</td>\n",
       "      <td>L90011</td>\n",
       "      <td>2</td>\n",
       "      <td>56,29</td>\n",
       "      <td>112,58</td>\n",
       "    </tr>\n",
       "    <tr>\n",
       "      <th>3</th>\n",
       "      <td>45805</td>\n",
       "      <td>44197</td>\n",
       "      <td>BO0002</td>\n",
       "      <td>L90011</td>\n",
       "      <td>1</td>\n",
       "      <td>16,42</td>\n",
       "      <td>16,42</td>\n",
       "    </tr>\n",
       "    <tr>\n",
       "      <th>4</th>\n",
       "      <td>54884</td>\n",
       "      <td>44197</td>\n",
       "      <td>TR0001</td>\n",
       "      <td>L90011</td>\n",
       "      <td>1</td>\n",
       "      <td>8,06</td>\n",
       "      <td>8,06</td>\n",
       "    </tr>\n",
       "  </tbody>\n",
       "</table>\n",
       "</div>"
      ],
      "text/plain": [
       "   ID do pedido   Data Cod. Produto ID Loja  Quantidade Valor Unitario  \\\n",
       "0         14242  44197       TR0002  L90011           5           5,37   \n",
       "1         32104  44197       BA0001  L90011           1          50,42   \n",
       "2         36203  44197       GO0003  L90011           2          56,29   \n",
       "3         45805  44197       BO0002  L90011           1          16,42   \n",
       "4         54884  44197       TR0001  L90011           1           8,06   \n",
       "\n",
       "  Valor Total  \n",
       "0       26,85  \n",
       "1       50,42  \n",
       "2      112,58  \n",
       "3       16,42  \n",
       "4        8,06  "
      ]
     },
     "execution_count": 4,
     "metadata": {},
     "output_type": "execute_result"
    }
   ],
   "source": [
    "# Leitura de dados de exemplo\n",
    "df_vendas = pd.read_sql('SELECT * FROM vendas', engine)\n",
    "df_vendas.head()"
   ]
  },
  {
   "cell_type": "code",
   "execution_count": null,
   "metadata": {},
   "outputs": [],
   "source": [
    "# Agrupamento e visualização\n",
    "vendas_por_loja = df_vendas.groupby('loja_id')['quantidade'].sum()\n",
    "\n",
    "vendas_por_loja.plot(kind='bar', title='Total de Vendas por Loja', ylabel='Quantidade')\n",
    "plt.tight_layout()\n",
    "plt.show()"
   ]
  }
 ],
 "metadata": {
  "kernelspec": {
   "display_name": "Python 3",
   "language": "python",
   "name": "python3"
  },
  "language_info": {
   "codemirror_mode": {
    "name": "ipython",
    "version": 3
   },
   "file_extension": ".py",
   "mimetype": "text/x-python",
   "name": "python",
   "nbconvert_exporter": "python",
   "pygments_lexer": "ipython3",
   "version": "3.11.2"
  }
 },
 "nbformat": 4,
 "nbformat_minor": 2
}
